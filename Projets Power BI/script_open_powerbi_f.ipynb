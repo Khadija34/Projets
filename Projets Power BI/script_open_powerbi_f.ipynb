{
 "cells": [
  {
   "cell_type": "code",
   "execution_count": null,
   "metadata": {},
   "outputs": [
    {
     "name": "stdout",
     "output_type": "stream",
     "text": [
      "Ouverture du rapport : C:\\Program Files\\Microsoft Power BI Desktop\\bin\\PBIDesktop.exe\n"
     ]
    }
   ],
   "source": [
    "import os\n",
    "import subprocess\n",
    "\n",
    "# Chemin vers le fichier .pbix\n",
    "pbix_file = r\"nom\\chemin\\du\\fichier.pbix\"\n",
    "# Vérifier si le fichier existe\n",
    "if os.path.exists(pbix_file):\n",
    "    # Ouvrir le fichier avec l'application par défaut (Power BI Desktop)\n",
    "    subprocess.Popen([pbix_file], shell=True)\n",
    "    print(f\"Ouverture du rapport : {pbix_file}\")\n",
    "else:\n",
    "    print(f\"Le fichier {pbix_file} n'existe pas.\")"
   ]
  }
 ],
 "metadata": {
  "kernelspec": {
   "display_name": "Python 3",
   "language": "python",
   "name": "python3"
  },
  "language_info": {
   "codemirror_mode": {
    "name": "ipython",
    "version": 3
   },
   "file_extension": ".py",
   "mimetype": "text/x-python",
   "name": "python",
   "nbconvert_exporter": "python",
   "pygments_lexer": "ipython3",
   "version": "3.12.1"
  }
 },
 "nbformat": 4,
 "nbformat_minor": 2
}
